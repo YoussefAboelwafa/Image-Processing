{
 "cells": [
  {
   "cell_type": "code",
   "execution_count": null,
   "metadata": {},
   "outputs": [],
   "source": [
    "import numpy as np\n",
    "import matplotlib.pyplot as plt\n",
    "\n",
    "from skimage import data, color, exposure\n",
    "from skimage.filters import sobel, gaussian\n",
    "from skimage.transform import rotate, rescale, resize"
   ]
  },
  {
   "cell_type": "code",
   "execution_count": null,
   "metadata": {},
   "outputs": [],
   "source": [
    "def show_image(image, title=\"Image\", cmap_type=\"gray\"):\n",
    "    plt.imshow(image, cmap=cmap_type)\n",
    "    plt.title(title)\n",
    "    plt.show()\n",
    "\n",
    "\n",
    "def plot_comparison(original, filtered, title_filtered):\n",
    "    fig, (ax1, ax2) = plt.subplots(ncols=2, figsize=(12, 8), sharex=True, sharey=True)\n",
    "    ax1.imshow(original, cmap=plt.cm.gray)\n",
    "    ax1.set_title(\"Original\")\n",
    "    ax1.axis(\"off\")\n",
    "    ax2.imshow(filtered, cmap=plt.cm.gray)\n",
    "    ax2.set_title(title_filtered)\n",
    "    ax2.axis(\"off\")\n",
    "\n",
    "\n",
    "def load_image(path):\n",
    "    image = plt.imread(path)\n",
    "    return image"
   ]
  },
  {
   "cell_type": "markdown",
   "metadata": {},
   "source": [
    "## Edge detection using `sobel()`\n",
    "\n",
    "#### `sobel()` must be applied on grayscale image\n"
   ]
  },
  {
   "cell_type": "code",
   "execution_count": null,
   "metadata": {},
   "outputs": [],
   "source": [
    "soaps_image = load_image(\"datasets/1/soap_image.jpg\")\n",
    "\n",
    "# Make the image grayscale\n",
    "soaps_image_gray = color.rgb2gray(soaps_image)\n",
    "\n",
    "# Apply edge detection filter\n",
    "edge_sobel = sobel(soaps_image_gray)\n",
    "\n",
    "plot_comparison(soaps_image, edge_sobel, \"Sobel Edge Detection\")"
   ]
  },
  {
   "cell_type": "markdown",
   "metadata": {},
   "source": [
    "## Bluring using `gaussian()` filter\n"
   ]
  },
  {
   "cell_type": "code",
   "execution_count": null,
   "metadata": {},
   "outputs": [],
   "source": [
    "building_image = load_image(\"datasets/1/building_image.jpg\")\n",
    "\n",
    "# Apply filter\n",
    "gaussian_image = gaussian(building_image)\n",
    "\n",
    "# Show original and resulting image to compare\n",
    "plot_comparison(building_image, gaussian_image, \"Reduced sharpness Gaussian\")"
   ]
  },
  {
   "cell_type": "markdown",
   "metadata": {},
   "source": [
    "# Contrast\n",
    "\n",
    "### Contrast is the difference between the max and min pixel in histogram distribution of an image\n",
    "\n",
    "#### high contrast (255)\n",
    "\n",
    "#### low contrast (0)\n"
   ]
  },
  {
   "cell_type": "code",
   "execution_count": null,
   "metadata": {},
   "outputs": [],
   "source": [
    "chest_xray_image = load_image(\"datasets/1/chest_xray_image.png\")\n",
    "\n",
    "# Use histogram equalization to improve the contrast\n",
    "xray_image_eq = exposure.equalize_hist(chest_xray_image)\n",
    "\n",
    "plot_comparison(chest_xray_image, xray_image_eq, \"Histogram Equalization\")"
   ]
  },
  {
   "cell_type": "code",
   "execution_count": null,
   "metadata": {},
   "outputs": [],
   "source": [
    "# Load the image\n",
    "original_image = data.coffee()\n",
    "\n",
    "# Apply the adaptive equalization on the original image\n",
    "adapthist_eq_image = exposure.equalize_adapthist(original_image, clip_limit=0.03)\n",
    "\n",
    "# Compare the original image to the equalized\n",
    "plot_comparison(original_image, adapthist_eq_image, \"Adaptive Equalization\")"
   ]
  },
  {
   "cell_type": "markdown",
   "metadata": {},
   "source": [
    "# Transformation\n"
   ]
  },
  {
   "cell_type": "markdown",
   "metadata": {},
   "source": [
    "## Rotation\n"
   ]
  },
  {
   "cell_type": "code",
   "execution_count": null,
   "metadata": {},
   "outputs": [],
   "source": [
    "image_cat = load_image(\"datasets/1/image_cat.jpg\")\n",
    "\n",
    "# Rotate the image 90 degrees clockwise\n",
    "rotated_cat_image = rotate(image_cat, -90)\n",
    "\n",
    "# Show the resulting images\n",
    "plot_comparison(image_cat, rotated_cat_image, \"Rescaled\")"
   ]
  },
  {
   "cell_type": "markdown",
   "metadata": {},
   "source": [
    "## Resize\n"
   ]
  },
  {
   "cell_type": "code",
   "execution_count": null,
   "metadata": {},
   "outputs": [],
   "source": [
    "dogs_banner = load_image(\"datasets/1/dogs_banner.jpg\")\n",
    "\n",
    "# Set proportional height and width so it is half its size\n",
    "height = int(dogs_banner.shape[0] / 2.0)\n",
    "width = int(dogs_banner.shape[1] / 2.0)\n",
    "\n",
    "# Resize using the calculated proportional height and width\n",
    "image_resized = resize(dogs_banner, (height, width), anti_aliasing=True)\n",
    "\n",
    "# Show the original and resized image\n",
    "print(\"Shape of original image: {}\".format(dogs_banner.shape))\n",
    "show_image(dogs_banner, \"Original\")\n",
    "print(\"Shape of resized image: {}\".format(image_resized.shape))\n",
    "show_image(image_resized, \"Resized image\")"
   ]
  }
 ],
 "metadata": {
  "kernelspec": {
   "display_name": "tf",
   "language": "python",
   "name": "python3"
  },
  "language_info": {
   "codemirror_mode": {
    "name": "ipython",
    "version": 3
   },
   "file_extension": ".py",
   "mimetype": "text/x-python",
   "name": "python",
   "nbconvert_exporter": "python",
   "pygments_lexer": "ipython3",
   "version": "3.10.12"
  }
 },
 "nbformat": 4,
 "nbformat_minor": 2
}
